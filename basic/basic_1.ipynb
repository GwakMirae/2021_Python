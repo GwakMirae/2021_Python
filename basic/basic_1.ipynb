{
 "cells": [
  {
   "cell_type": "code",
   "execution_count": 3,
   "metadata": {},
   "outputs": [
    {
     "data": {
      "text/plain": [
       "16.666666666666668"
      ]
     },
     "execution_count": 3,
     "metadata": {},
     "output_type": "execute_result"
    }
   ],
   "source": [
    "50/3"
   ]
  },
  {
   "cell_type": "code",
   "execution_count": 4,
   "metadata": {},
   "outputs": [
    {
     "data": {
      "text/plain": [
       "50"
      ]
     },
     "execution_count": 4,
     "metadata": {},
     "output_type": "execute_result"
    }
   ],
   "source": [
    "price = 20\n",
    "price +30"
   ]
  },
  {
   "cell_type": "code",
   "execution_count": 5,
   "metadata": {},
   "outputs": [
    {
     "data": {
      "text/plain": [
       "'loveyou'"
      ]
     },
     "execution_count": 5,
     "metadata": {},
     "output_type": "execute_result"
    }
   ],
   "source": [
    "a = 'love'\n",
    "b = 'you'\n",
    "a+b"
   ]
  },
  {
   "cell_type": "code",
   "execution_count": 9,
   "metadata": {},
   "outputs": [
    {
     "data": {
      "text/plain": [
       "['mother', 'father', 'sister']"
      ]
     },
     "execution_count": 9,
     "metadata": {},
     "output_type": "execute_result"
    }
   ],
   "source": [
    "family = ['mother', 'father', 'sister','me']\n",
    "len(family)\n",
    "family[3]\n",
    "family.remove('me')\n",
    "family"
   ]
  },
  {
   "cell_type": "code",
   "execution_count": 11,
   "metadata": {},
   "outputs": [
    {
     "name": "stdout",
     "output_type": "stream",
     "text": [
      "정수: 3\n"
     ]
    },
    {
     "data": {
      "text/plain": [
       "9"
      ]
     },
     "execution_count": 11,
     "metadata": {},
     "output_type": "execute_result"
    }
   ],
   "source": [
    "num = int(input('정수: '))\n",
    "num**2"
   ]
  },
  {
   "cell_type": "code",
   "execution_count": 17,
   "metadata": {},
   "outputs": [
    {
     "name": "stdout",
     "output_type": "stream",
     "text": [
      "0\n",
      "1\n",
      "2\n",
      "3\n",
      "4\n",
      "5\n",
      "6\n",
      "7\n",
      "8\n",
      "9\n",
      "10\n"
     ]
    }
   ],
   "source": [
    "num = 0\n",
    "while num <= 10:\n",
    "    print(num)\n",
    "    num+=1"
   ]
  },
  {
   "cell_type": "code",
   "execution_count": 18,
   "metadata": {},
   "outputs": [
    {
     "name": "stdout",
     "output_type": "stream",
     "text": [
      "반복: 3\n",
      "3\n",
      "3\n",
      "3\n"
     ]
    }
   ],
   "source": [
    "repeat = int(input('반복: '))\n",
    "num = 0\n",
    "while num < repeat:\n",
    "    print(repeat)\n",
    "    num+=1"
   ]
  },
  {
   "cell_type": "code",
   "execution_count": 20,
   "metadata": {},
   "outputs": [
    {
     "name": "stdout",
     "output_type": "stream",
     "text": [
      "repeat: 3\n",
      "1 1\n",
      "2 4\n",
      "3 9\n"
     ]
    }
   ],
   "source": [
    "repeat = int(input('repeat: '))\n",
    "num = 1\n",
    "while num <= repeat:\n",
    "    print(num,num**2)\n",
    "    num+=1"
   ]
  },
  {
   "cell_type": "code",
   "execution_count": 22,
   "metadata": {},
   "outputs": [
    {
     "name": "stdout",
     "output_type": "stream",
     "text": [
      "1 60.0\n",
      "2 36.0\n",
      "3 21.6\n",
      "4 12.96\n",
      "5 7.776\n",
      "6 4.6656\n",
      "7 2.7994\n",
      "8 1.6796\n",
      "9 1.0078\n",
      "10 0.6047\n"
     ]
    }
   ],
   "source": [
    "height = 100\n",
    "num=1\n",
    "while num <= 10:\n",
    "    height = height * (3/5)\n",
    "    print(num,round(height,4))\n",
    "    num+=1"
   ]
  },
  {
   "cell_type": "code",
   "execution_count": 1,
   "metadata": {},
   "outputs": [
    {
     "name": "stdout",
     "output_type": "stream",
     "text": [
      "11\n",
      "11 is too big!\n"
     ]
    }
   ],
   "source": [
    "max =10\n",
    "while True:\n",
    "    num = int(input())\n",
    "    if num > max:\n",
    "        print(num, 'is too big!')\n",
    "        break"
   ]
  },
  {
   "cell_type": "code",
   "execution_count": 3,
   "metadata": {},
   "outputs": [
    {
     "name": "stdout",
     "output_type": "stream",
     "text": [
      "입력: 1\n",
      "입력: 2\n",
      "입력: 3\n",
      "입력: -1\n",
      "6\n"
     ]
    }
   ],
   "source": [
    "s =0\n",
    "while True:\n",
    "    num = int(input('입력: '))\n",
    "    if num > 0:\n",
    "        s += num\n",
    "    else :\n",
    "        print(s)\n",
    "        break"
   ]
  },
  {
   "cell_type": "code",
   "execution_count": 7,
   "metadata": {},
   "outputs": [
    {
     "name": "stdout",
     "output_type": "stream",
     "text": [
      "윤년 판단 연도: 2000\n",
      "윤년\n"
     ]
    }
   ],
   "source": [
    "#윤년 판단\n",
    "year = int(input('윤년 판단 연도: '))\n",
    "if year%4 == 0:\n",
    "    if year%100==0:\n",
    "        if year%400==0:\n",
    "            print('윤년')\n",
    "        else:\n",
    "            print('평년')\n",
    "    else:\n",
    "        print('윤년')\n",
    "else:\n",
    "    print('평년')"
   ]
  },
  {
   "cell_type": "code",
   "execution_count": 8,
   "metadata": {},
   "outputs": [
    {
     "name": "stdout",
     "output_type": "stream",
     "text": [
      "mother 6\n",
      "father 6\n",
      "sister 6\n",
      "me 2\n"
     ]
    }
   ],
   "source": [
    "family = ['mother','father','sister','me']\n",
    "for x in family:\n",
    "    print('%s %d' %(x, len(x)))"
   ]
  },
  {
   "cell_type": "code",
   "execution_count": 9,
   "metadata": {},
   "outputs": [
    {
     "data": {
      "text/plain": [
       "[2, 3, 4, 5, 6]"
      ]
     },
     "execution_count": 9,
     "metadata": {},
     "output_type": "execute_result"
    }
   ],
   "source": [
    "list(range(2,7))"
   ]
  },
  {
   "cell_type": "code",
   "execution_count": 10,
   "metadata": {},
   "outputs": [
    {
     "name": "stdout",
     "output_type": "stream",
     "text": [
      "4\n",
      "5\n",
      "6\n",
      "7\n"
     ]
    }
   ],
   "source": [
    "for i in range(4,8):\n",
    "    print(i)"
   ]
  },
  {
   "cell_type": "code",
   "execution_count": 12,
   "metadata": {},
   "outputs": [
    {
     "name": "stdout",
     "output_type": "stream",
     "text": [
      "입력3\n",
      "3\n",
      "3\n",
      "3\n"
     ]
    }
   ],
   "source": [
    "num = int(input('입력: '))\n",
    "for i in range(0,num):\n",
    "    print(num)"
   ]
  },
  {
   "cell_type": "code",
   "execution_count": 13,
   "metadata": {},
   "outputs": [
    {
     "name": "stdout",
     "output_type": "stream",
     "text": [
      "입력: 3\n",
      "1 1\n",
      "2 4\n",
      "3 9\n"
     ]
    }
   ],
   "source": [
    "num = int (input('입력: '))\n",
    "for i in range(1,num+1):\n",
    "    print(i, i**2)"
   ]
  },
  {
   "cell_type": "code",
   "execution_count": 16,
   "metadata": {},
   "outputs": [
    {
     "name": "stdout",
     "output_type": "stream",
     "text": [
      "[3, 5, 7, 9, 11, 13, 15, 17, 19, 21, 23, 25, 27, 29]\n"
     ]
    }
   ],
   "source": [
    "L = list(range(2,30))\n",
    "for x in L:\n",
    "    if x%2==0:\n",
    "        L.remove(x)\n",
    "        continue\n",
    "    if x%3 == 0:\n",
    "        L.remove(x)\n",
    "print(L)"
   ]
  },
  {
   "cell_type": "code",
   "execution_count": 19,
   "metadata": {},
   "outputs": [
    {
     "name": "stdout",
     "output_type": "stream",
     "text": [
      "0 100\n",
      "12\n",
      "Nothing to report\n",
      "31\n",
      "Nothing to report\n",
      "101\n",
      "Alert!\n"
     ]
    }
   ],
   "source": [
    "l = input()\n",
    "fp, bp = l.split()\n",
    "while True:\n",
    "    point = int(input())\n",
    "    if (point < int(bp)) & (point > int(fp)):\n",
    "        print('Nothing to report')\n",
    "    else:\n",
    "        print('Alert!')\n",
    "        break"
   ]
  },
  {
   "cell_type": "code",
   "execution_count": null,
   "metadata": {},
   "outputs": [],
   "source": []
  }
 ],
 "metadata": {
  "kernelspec": {
   "display_name": "Python 3",
   "language": "python",
   "name": "python3"
  },
  "language_info": {
   "codemirror_mode": {
    "name": "ipython",
    "version": 3
   },
   "file_extension": ".py",
   "mimetype": "text/x-python",
   "name": "python",
   "nbconvert_exporter": "python",
   "pygments_lexer": "ipython3",
   "version": "3.7.6"
  }
 },
 "nbformat": 4,
 "nbformat_minor": 4
}
