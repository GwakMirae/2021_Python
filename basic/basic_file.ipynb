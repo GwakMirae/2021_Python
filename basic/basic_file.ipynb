{
 "cells": [
  {
   "cell_type": "code",
   "execution_count": 10,
   "metadata": {},
   "outputs": [
    {
     "data": {
      "text/plain": [
       "'Programming is fun.\\nVery fun!\\nYou have to do it yourself.'"
      ]
     },
     "execution_count": 10,
     "metadata": {},
     "output_type": "execute_result"
    }
   ],
   "source": [
    "f = open('./fileTest.txt')\n",
    "f.read()"
   ]
  },
  {
   "cell_type": "code",
   "execution_count": 14,
   "metadata": {},
   "outputs": [
    {
     "name": "stdout",
     "output_type": "stream",
     "text": [
      "new post\n"
     ]
    }
   ],
   "source": [
    "f = open('./fileTest2.txt', 'w')\n",
    "f.write('new post')\n",
    "f.close()\n",
    "f = open('./fileTest2.txt')\n",
    "print(f.read())"
   ]
  },
  {
   "cell_type": "code",
   "execution_count": 16,
   "metadata": {},
   "outputs": [
    {
     "name": "stdout",
     "output_type": "stream",
     "text": [
      "Programming is fun.\n",
      "Very fun!\n",
      "You have to do it yourself.new post\n",
      "new post\n"
     ]
    }
   ],
   "source": [
    "f = open('./fileTest.txt', 'a+')\n",
    "f.write('\\nnew post')\n",
    "f.close()\n",
    "f = open('./fileTest.txt')\n",
    "print(f.read())"
   ]
  },
  {
   "cell_type": "code",
   "execution_count": 17,
   "metadata": {},
   "outputs": [
    {
     "name": "stdout",
     "output_type": "stream",
     "text": [
      "['Programming is fun.\\n', 'Very fun!\\n', 'You have to do it yourself.new post\\n', 'new post']\n"
     ]
    }
   ],
   "source": [
    "f = open('./fileTest.txt')\n",
    "lines = f.readlines()\n",
    "print(lines)\n",
    "f.close()"
   ]
  }
 ],
 "metadata": {
  "kernelspec": {
   "display_name": "Python 3",
   "language": "python",
   "name": "python3"
  },
  "language_info": {
   "codemirror_mode": {
    "name": "ipython",
    "version": 3
   },
   "file_extension": ".py",
   "mimetype": "text/x-python",
   "name": "python",
   "nbconvert_exporter": "python",
   "pygments_lexer": "ipython3",
   "version": "3.7.6"
  }
 },
 "nbformat": 4,
 "nbformat_minor": 4
}
