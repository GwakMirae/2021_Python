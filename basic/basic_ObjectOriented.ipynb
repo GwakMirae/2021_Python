{
 "cells": [
  {
   "cell_type": "code",
   "execution_count": 1,
   "metadata": {},
   "outputs": [
    {
     "data": {
      "text/plain": [
       "'La lalali lala'"
      ]
     },
     "execution_count": 1,
     "metadata": {},
     "output_type": "execute_result"
    }
   ],
   "source": [
    "class Singer:\n",
    "    def sing(self):\n",
    "        return 'La lalali lala'\n",
    "\n",
    "mirae = Singer()\n",
    "mirae.sing()"
   ]
  },
  {
   "cell_type": "code",
   "execution_count": 5,
   "metadata": {},
   "outputs": [
    {
     "name": "stdout",
     "output_type": "stream",
     "text": [
      "22 Jab!!\n"
     ]
    }
   ],
   "source": [
    "class Amazon:\n",
    "    strength = 20\n",
    "    dexterity = 25\n",
    "    vitality = 20\n",
    "    energy = 15\n",
    "    def exercise(self):\n",
    "        self.strength += 2\n",
    "        self.dexterity += 3\n",
    "        self.vitality += 1\n",
    "        \n",
    "    def attack(self):\n",
    "        return 'Jab!!'\n",
    "    \n",
    "a = Amazon()\n",
    "a.exercise()\n",
    "print(a.strength, a.attack())"
   ]
  },
  {
   "cell_type": "code",
   "execution_count": 7,
   "metadata": {},
   "outputs": [
    {
     "name": "stdout",
     "output_type": "stream",
     "text": [
      "옴뇸뇸ㄴ\n"
     ]
    }
   ],
   "source": [
    "class Person:\n",
    "    eyes = 2\n",
    "    nose = 1\n",
    "    mouth = 1\n",
    "    ears = 2\n",
    "    arms = 2\n",
    "    legs = 2\n",
    "    \n",
    "    def eat(self):\n",
    "        print('옴뇸뇸ㄴ')\n",
    "    def sleep(self):\n",
    "        print('zzzz,,')\n",
    "    def talk(self):\n",
    "        print('어쩌구 저쩌구')\n",
    "\n",
    "class Student(Person):\n",
    "    def study(self):\n",
    "        print('studing,,,,,')\n",
    "Kwak = Student()\n",
    "Kwak.eat()"
   ]
  },
  {
   "cell_type": "code",
   "execution_count": 13,
   "metadata": {},
   "outputs": [
    {
     "name": "stdout",
     "output_type": "stream",
     "text": [
      "냉장고 문을 열었어요...\n",
      "냉장고 속에 음식이 들어갔네...\n",
      "냉장고 문을 닫았어요...\n",
      "냉장고 문이 닫혀있어서 못넣겠어요...\n"
     ]
    }
   ],
   "source": [
    "class Fridge:\n",
    "    def __init__(self):\n",
    "        self.isOpened = False\n",
    "        self.foods = []\n",
    "    \n",
    "    def open(self):\n",
    "        self.isOpened = True\n",
    "        print('냉장고 문을 열었어요...')\n",
    "    \n",
    "    def put(self, thing):\n",
    "        if self.isOpened:\n",
    "            self.foods.append(thing)\n",
    "            print ('냉장고 속에 음식이 들어갔네...')\n",
    "        else:\n",
    "            print('냉장고 문이 닫혀있어서 못넣겠어요...')\n",
    "    \n",
    "    def close(self):\n",
    "        self.isOpened = False\n",
    "        print('냉장고 문을 닫았어요...')\n",
    "\n",
    "f = Fridge()\n",
    "f.open()\n",
    "f.put('apple')\n",
    "f.close()\n",
    "f.put('banana')"
   ]
  },
  {
   "cell_type": "code",
   "execution_count": 41,
   "metadata": {},
   "outputs": [
    {
     "name": "stdout",
     "output_type": "stream",
     "text": [
      "책 객체를 새로 만들었어요~\n",
      "remove...\n",
      "책 객체를 새로 만들었어요~\n",
      "제목 :  yes\n",
      "가격 :  1000\n",
      "저자 :  ?\n",
      "noyes\n",
      "remove...\n"
     ]
    }
   ],
   "source": [
    "class Book:\n",
    "\n",
    "    def setData(self, title, price, author):\n",
    "        self.title = title\n",
    "        self.price = price\n",
    "        self.author = author\n",
    "\n",
    "    def printData(self):\n",
    "        print('제목 : ', self.title)\n",
    "        print('가격 : ', self.price)\n",
    "        print ('저자 : ', self.author)\n",
    "\n",
    "    def __init__(self, title, price, author):\n",
    "        self.setData(title,price,author)\n",
    "        print ('책 객체를 새로 만들었어요~')\n",
    "    def __repr__(self):\n",
    "        return self.title\n",
    "    def __add__(self, other):\n",
    "        return self.title + other.title\n",
    "    def __lt__(self, other):\n",
    "        return (int(self.price) < int(other.price))\n",
    "    def __eq__(self, other):\n",
    "        return (int(self.price) == int(other.price))\n",
    "    def __del__(self):\n",
    "        print('remove...')\n",
    "        \n",
    "a = Book('no', '1000', '?')\n",
    "b = Book('yes', '1000', '?')\n",
    "b.printData()\n",
    "print(a + b)\n",
    "if a > b: \n",
    "    print('a가 비쌈')\n",
    "del b"
   ]
  },
  {
   "cell_type": "code",
   "execution_count": 45,
   "metadata": {},
   "outputs": [
    {
     "name": "stdout",
     "output_type": "stream",
     "text": [
      "mirae 22 201902650\n"
     ]
    }
   ],
   "source": [
    "class Person:\n",
    "    def __init__(self, name, age):\n",
    "        self.name = name\n",
    "        self.age = age\n",
    "    def __repr__(self):\n",
    "        return self.name +' '+self.age\n",
    "\n",
    "class Student(Person):\n",
    "    def __init__(self, name, age, studentId):\n",
    "        super().__init__(name, age)\n",
    "        self.studentId = studentId\n",
    "    def __repr__(self):\n",
    "        return self.name + \" \" + self.age + \" \" + self.studentId\n",
    "\n",
    "a = Student('mirae', '22', '201902650')\n",
    "print(a)"
   ]
  },
  {
   "cell_type": "code",
   "execution_count": null,
   "metadata": {},
   "outputs": [],
   "source": []
  }
 ],
 "metadata": {
  "kernelspec": {
   "display_name": "Python 3",
   "language": "python",
   "name": "python3"
  },
  "language_info": {
   "codemirror_mode": {
    "name": "ipython",
    "version": 3
   },
   "file_extension": ".py",
   "mimetype": "text/x-python",
   "name": "python",
   "nbconvert_exporter": "python",
   "pygments_lexer": "ipython3",
   "version": "3.7.6"
  }
 },
 "nbformat": 4,
 "nbformat_minor": 4
}
